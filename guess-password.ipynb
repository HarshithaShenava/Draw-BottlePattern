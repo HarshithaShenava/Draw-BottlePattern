{
 "cells": [
  {
   "cell_type": "markdown",
   "metadata": {},
   "source": [
    "Building a Simple Password Guessing game"
   ]
  },
  {
   "cell_type": "code",
   "execution_count": 1,
   "metadata": {},
   "outputs": [
    {
     "name": "stdout",
     "output_type": "stream",
     "text": [
      "Welcome\n",
      "Attempts: 6\n",
      "Remaining attemps: 5\n",
      "Remaining attemps: 4\n",
      "Success\n",
      " \n",
      "        \\o/\n",
      "         |\n",
      "        / \\ \n"
     ]
    }
   ],
   "source": [
    "class PasswordGame:\n",
    "    def __init__(self,password):\n",
    "        self.password=password\n",
    "        self.attempts=6\n",
    "        self.door='locked'\n",
    "    def play(self):\n",
    "        print('Welcome')\n",
    "        print('Attempts:',self.attempts)\n",
    "        while self.attempts!=0:\n",
    "            guess=input('Enter you guess')\n",
    "            if guess==self.password:\n",
    "                self.door='unlock'\n",
    "                print('Success')\n",
    "                self.showing_dancing_man()\n",
    "                break\n",
    "            else:\n",
    "                self.attempts-=1\n",
    "                if self.attempts!=0:\n",
    "                    print('Remaining attemps:',self.attempts)\n",
    "                else:\n",
    "                    print('Game Over')\n",
    "                    self.show_sad_man()\n",
    "                    break\n",
    "    def showing_dancing_man(self):\n",
    "        print(\"\"\" \n",
    "        \\o/\n",
    "         |\n",
    "        / \\ \"\"\")\n",
    "    def show_sad_man(self):\n",
    "        print(':(')\n",
    "def main():\n",
    "    password=PasswordGame('passwrd123')\n",
    "    password.play()\n",
    "if __name__ == \"__main__\":\n",
    "    main()    "
   ]
  }
 ],
 "metadata": {
  "kernelspec": {
   "display_name": "Edujournal",
   "language": "python",
   "name": "python3"
  },
  "language_info": {
   "codemirror_mode": {
    "name": "ipython",
    "version": 3
   },
   "file_extension": ".py",
   "mimetype": "text/x-python",
   "name": "python",
   "nbconvert_exporter": "python",
   "pygments_lexer": "ipython3",
   "version": "3.11.4"
  }
 },
 "nbformat": 4,
 "nbformat_minor": 2
}
