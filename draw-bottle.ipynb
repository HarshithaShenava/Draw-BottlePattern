{
 "cells": [
  {
   "cell_type": "markdown",
   "metadata": {},
   "source": [
    "Building a Simple Bottle Pattern"
   ]
  },
  {
   "cell_type": "code",
   "execution_count": 1,
   "metadata": {},
   "outputs": [
    {
     "name": "stdout",
     "output_type": "stream",
     "text": [
      "   |  |   \n",
      "   |  |   \n",
      "   |  |   \n",
      "   |  |   \n",
      "|========|\n",
      "|========|\n",
      "|========|\n",
      "|========|\n",
      "|========|\n",
      "|========|\n",
      "|========|\n",
      "|========|\n",
      "+========+\n"
     ]
    }
   ],
   "source": [
    "def draw_bottle(height):\n",
    "    neck_height = height // 3\n",
    "    body_height = height - neck_height\n",
    "    bottle_width = height // 3\n",
    "    for i in range(neck_height):\n",
    "        print(\" \" * (bottle_width - 1) + \"|\" +\"  \"+  \"|\"+ \" \" * (bottle_width - 1))\n",
    "    for i in range(body_height):\n",
    "        print(\"|\" + \"=\" * (2 * bottle_width) + \"|\")\n",
    "    print(\"+\" + \"=\" * (2 * bottle_width) + \"+\")\n",
    "height = 12\n",
    "draw_bottle(height)"
   ]
  },
  {
   "cell_type": "code",
   "execution_count": 2,
   "metadata": {},
   "outputs": [
    {
     "name": "stdout",
     "output_type": "stream",
     "text": [
      " |  | \n",
      " |  | \n",
      "|====|\n",
      "|====|\n",
      "|====|\n",
      "|====|\n",
      "|====|\n",
      "|====|\n",
      "+====+\n"
     ]
    }
   ],
   "source": [
    "height=8\n",
    "draw_bottle(height)\n"
   ]
  }
 ],
 "metadata": {
  "kernelspec": {
   "display_name": "Edujournal",
   "language": "python",
   "name": "python3"
  },
  "language_info": {
   "codemirror_mode": {
    "name": "ipython",
    "version": 3
   },
   "file_extension": ".py",
   "mimetype": "text/x-python",
   "name": "python",
   "nbconvert_exporter": "python",
   "pygments_lexer": "ipython3",
   "version": "3.11.4"
  }
 },
 "nbformat": 4,
 "nbformat_minor": 2
}
